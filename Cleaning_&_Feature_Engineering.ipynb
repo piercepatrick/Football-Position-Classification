{
  "nbformat": 4,
  "nbformat_minor": 0,
  "metadata": {
    "colab": {
      "name": "Cleaning & Feature Engineering.ipynb",
      "provenance": [],
      "collapsed_sections": [],
      "mount_file_id": "1QttTPzINKRbVg6KZzLHybL8nE4rIaFlL",
      "authorship_tag": "ABX9TyPdjOEPM2unxo9dpu22x6ca",
      "include_colab_link": true
    },
    "kernelspec": {
      "name": "python3",
      "display_name": "Python 3"
    }
  },
  "cells": [
    {
      "cell_type": "markdown",
      "metadata": {
        "id": "view-in-github",
        "colab_type": "text"
      },
      "source": [
        "<a href=\"https://colab.research.google.com/github/piercepatrick/Football-Position-Classification/blob/master/Cleaning_%26_Feature_Engineering.ipynb\" target=\"_parent\"><img src=\"https://colab.research.google.com/assets/colab-badge.svg\" alt=\"Open In Colab\"/></a>"
      ]
    },
    {
      "cell_type": "code",
      "metadata": {
        "id": "JEmCDcnwVWS9",
        "colab_type": "code",
        "colab": {
          "base_uri": "https://localhost:8080/",
          "height": 54
        },
        "outputId": "5bfe55bf-8af5-4c82-a7e7-82eb49dfc8a7"
      },
      "source": [
        "# Import packages\n",
        "import numpy as np\n",
        "import pandas as pd\n",
        "import matplotlib.pyplot as plt\n",
        "import seaborn as sns \n",
        "import warnings\n",
        "warnings.filterwarnings(\"ignore\")"
      ],
      "execution_count": 2,
      "outputs": [
        {
          "output_type": "stream",
          "text": [
            "/usr/local/lib/python3.6/dist-packages/statsmodels/tools/_testing.py:19: FutureWarning: pandas.util.testing is deprecated. Use the functions in the public API at pandas.testing instead.\n",
            "  import pandas.util.testing as tm\n"
          ],
          "name": "stderr"
        }
      ]
    },
    {
      "cell_type": "code",
      "metadata": {
        "id": "idL1-kh5eEp7",
        "colab_type": "code",
        "colab": {}
      },
      "source": [
        "# Read in all dataframes\n",
        "atlanta = pd.read_csv('/content/drive/My Drive/DS/Football Position Classifier/Data/atlanta_combine_results.csv')\n",
        "baltimore = pd.read_csv('/content/drive/My Drive/DS/Football Position Classifier/Data/baltimore_combine_results.csv')\n",
        "charlotte = pd.read_csv('/content/drive/My Drive/DS/Football Position Classifier/Data/charlotte_combine_results.csv')\n",
        "chicago = pd.read_csv('/content/drive/My Drive/DS/Football Position Classifier/Data/chicago_combine_results.csv')\n",
        "dallas = pd.read_csv('/content/drive/My Drive/DS/Football Position Classifier/Data/dallas_combine_results.csv')\n",
        "mobile = pd.read_csv('/content/drive/My Drive/DS/Football Position Classifier/Data/mobile_combine_results.csv')\n",
        "nashville = pd.read_csv('/content/drive/My Drive/DS/Football Position Classifier/Data/nashville_combine_results.csv')\n",
        "newjersey = pd.read_csv('/content/drive/My Drive/DS/Football Position Classifier/Data/newjersey_combine_results.csv')\n",
        "orlando = pd.read_csv('/content/drive/My Drive/DS/Football Position Classifier/Data/orlando_combine_results.csv')\n",
        "sanfrancisco = pd.read_csv('/content/drive/My Drive/DS/Football Position Classifier/Data/sanfrancisco_combine_results.csv')"
      ],
      "execution_count": 3,
      "outputs": []
    },
    {
      "cell_type": "code",
      "metadata": {
        "id": "rH-BCLT1rVKt",
        "colab_type": "code",
        "colab": {
          "base_uri": "https://localhost:8080/",
          "height": 163
        },
        "outputId": "21ee9462-efae-4dd3-cd75-7c115c130521"
      },
      "source": [
        "# Print row counts for each df\n",
        "for df in [atlanta, baltimore, charlotte, chicago, dallas, mobile, nashville, newjersey]:\n",
        "  print(df.shape)"
      ],
      "execution_count": 4,
      "outputs": [
        {
          "output_type": "stream",
          "text": [
            "(2070, 15)\n",
            "(1737, 15)\n",
            "(1995, 15)\n",
            "(1251, 15)\n",
            "(1557, 15)\n",
            "(1069, 15)\n",
            "(1230, 15)\n",
            "(1555, 15)\n"
          ],
          "name": "stdout"
        }
      ]
    },
    {
      "cell_type": "code",
      "metadata": {
        "id": "thIkpNFdekw9",
        "colab_type": "code",
        "colab": {
          "base_uri": "https://localhost:8080/",
          "height": 314
        },
        "outputId": "50367b3b-6f9d-410a-d8da-dd2fba766afd"
      },
      "source": [
        "# Visualize player counts at each city combine\n",
        "df_dict = {'atlanta': 2070 , 'baltimore': 1737, 'charlotte': 1995, 'chicago': 1251, 'dallas': 1557, 'mobile': 1069, 'nashville': 1230, 'newjersey': 1555}\n",
        "keys = list(df_dict.keys())\n",
        "values = list(df_dict.values())\n",
        "chart = sns.barplot(x=keys, y=values)\n",
        "chart.set_xticklabels(chart.get_xticklabels(), rotation=45, fontweight='light', horizontalalignment='right')\n",
        "plt.ylabel('Number of Rows')\n",
        "plt.title('Number of Players (rows) per City Combine')\n",
        "\n",
        "plt.show()"
      ],
      "execution_count": 5,
      "outputs": [
        {
          "output_type": "display_data",
          "data": {
            "image/png": "[encoded data removed]",
            "text/plain": [
              "<Figure size 432x288 with 1 Axes>"
            ]
          },
          "metadata": {
            "tags": [],
            "needs_background": "light"
          }
        }
      ]
    },
    {
      "cell_type": "code",
      "metadata": {
        "id": "xSmmOooCpvgB",
        "colab_type": "code",
        "colab": {
          "base_uri": "https://localhost:8080/",
          "height": 198
        },
        "outputId": "f8a37569-bbbe-494d-ed04-572a40d63216"
      },
      "source": [
        "# Combine all dataframes into one\n",
        "df = pd.concat([atlanta, baltimore, charlotte, chicago, dallas, mobile, nashville, newjersey])\n",
        "df.head()"
      ],
      "execution_count": 6,
      "outputs": [
        {
          "output_type": "execute_result",
          "data": {
            "text/html": [
              "<div>\n",
              "<style scoped>\n",
              "    .dataframe tbody tr th:only-of-type {\n",
              "        vertical-align: middle;\n",
              "    }\n",
              "\n",
              "    .dataframe tbody tr th {\n",
              "        vertical-align: top;\n",
              "    }\n",
              "\n",
              "    .dataframe thead th {\n",
              "        text-align: right;\n",
              "    }\n",
              "</style>\n",
              "<table border=\"1\" class=\"dataframe\">\n",
              "  <thead>\n",
              "    <tr style=\"text-align: right;\">\n",
              "      <th></th>\n",
              "      <th>Unnamed: 0</th>\n",
              "      <th>first_name</th>\n",
              "      <th>last_name</th>\n",
              "      <th>state</th>\n",
              "      <th>grad_year</th>\n",
              "      <th>position</th>\n",
              "      <th>height</th>\n",
              "      <th>weight</th>\n",
              "      <th>forty_yard_dash</th>\n",
              "      <th>shuttle_run</th>\n",
              "      <th>three_cone</th>\n",
              "      <th>broad_jump</th>\n",
              "      <th>vertical_jump</th>\n",
              "      <th>profile_yn</th>\n",
              "      <th>conditions</th>\n",
              "    </tr>\n",
              "  </thead>\n",
              "  <tbody>\n",
              "    <tr>\n",
              "      <th>0</th>\n",
              "      <td>0</td>\n",
              "      <td>Ali</td>\n",
              "      <td>Abdul-Barr</td>\n",
              "      <td>GA</td>\n",
              "      <td>2021.0</td>\n",
              "      <td>WR</td>\n",
              "      <td>6' 0</td>\n",
              "      <td>180.0</td>\n",
              "      <td>5.034</td>\n",
              "      <td>4.55</td>\n",
              "      <td>6.91</td>\n",
              "      <td>104.0</td>\n",
              "      <td>25.0</td>\n",
              "      <td>View Profile</td>\n",
              "      <td>warm and sunny</td>\n",
              "    </tr>\n",
              "    <tr>\n",
              "      <th>1</th>\n",
              "      <td>1</td>\n",
              "      <td>Noah</td>\n",
              "      <td>Abrams</td>\n",
              "      <td>GA</td>\n",
              "      <td>2021.0</td>\n",
              "      <td>CB</td>\n",
              "      <td>5' 8</td>\n",
              "      <td>149.0</td>\n",
              "      <td>4.565</td>\n",
              "      <td>4.614</td>\n",
              "      <td>7.65</td>\n",
              "      <td>107.0</td>\n",
              "      <td>27.7</td>\n",
              "      <td>View Profile</td>\n",
              "      <td>warm and sunny</td>\n",
              "    </tr>\n",
              "    <tr>\n",
              "      <th>2</th>\n",
              "      <td>2</td>\n",
              "      <td>Brian</td>\n",
              "      <td>Abson</td>\n",
              "      <td>GA</td>\n",
              "      <td>2020.0</td>\n",
              "      <td>RB</td>\n",
              "      <td>5' 7</td>\n",
              "      <td>184.0</td>\n",
              "      <td>NaN</td>\n",
              "      <td>NaN</td>\n",
              "      <td>NaN</td>\n",
              "      <td>NaN</td>\n",
              "      <td>NaN</td>\n",
              "      <td>View Profile</td>\n",
              "      <td>warm and sunny</td>\n",
              "    </tr>\n",
              "    <tr>\n",
              "      <th>3</th>\n",
              "      <td>3</td>\n",
              "      <td>Zak</td>\n",
              "      <td>Acuff</td>\n",
              "      <td>TN</td>\n",
              "      <td>2021.0</td>\n",
              "      <td>QB</td>\n",
              "      <td>6'2\"</td>\n",
              "      <td>156.0</td>\n",
              "      <td>5.009</td>\n",
              "      <td>4.937</td>\n",
              "      <td>NaN</td>\n",
              "      <td>115.0</td>\n",
              "      <td>NaN</td>\n",
              "      <td>View Profile</td>\n",
              "      <td>warm and sunny</td>\n",
              "    </tr>\n",
              "    <tr>\n",
              "      <th>4</th>\n",
              "      <td>4</td>\n",
              "      <td>Cedric</td>\n",
              "      <td>Adams</td>\n",
              "      <td>MS</td>\n",
              "      <td>2019.0</td>\n",
              "      <td>S</td>\n",
              "      <td>5' 8</td>\n",
              "      <td>178.0</td>\n",
              "      <td>4.952</td>\n",
              "      <td>4.789</td>\n",
              "      <td>7.81</td>\n",
              "      <td>106.0</td>\n",
              "      <td>27.6</td>\n",
              "      <td>View Profile</td>\n",
              "      <td>warm and sunny</td>\n",
              "    </tr>\n",
              "  </tbody>\n",
              "</table>\n",
              "</div>"
            ],
            "text/plain": [
              "   Unnamed: 0 first_name  ...    profile_yn      conditions\n",
              "0           0        Ali  ...  View Profile  warm and sunny\n",
              "1           1       Noah  ...  View Profile  warm and sunny\n",
              "2           2      Brian  ...  View Profile  warm and sunny\n",
              "3           3        Zak  ...  View Profile  warm and sunny\n",
              "4           4     Cedric  ...  View Profile  warm and sunny\n",
              "\n",
              "[5 rows x 15 columns]"
            ]
          },
          "metadata": {
            "tags": []
          },
          "execution_count": 6
        }
      ]
    },
    {
      "cell_type": "code",
      "metadata": {
        "id": "RDU8-aJ_FTgt",
        "colab_type": "code",
        "colab": {
          "base_uri": "https://localhost:8080/",
          "height": 35
        },
        "outputId": "6790a129-68f5-4a42-c598-0dc354973aab"
      },
      "source": [
        "df.shape"
      ],
      "execution_count": 7,
      "outputs": [
        {
          "output_type": "execute_result",
          "data": {
            "text/plain": [
              "(12464, 15)"
            ]
          },
          "metadata": {
            "tags": []
          },
          "execution_count": 7
        }
      ]
    },
    {
      "cell_type": "code",
      "metadata": {
        "id": "lME91-JAGUfw",
        "colab_type": "code",
        "colab": {}
      },
      "source": [
        "df.drop('Unnamed: 0', axis=1, inplace=True)"
      ],
      "execution_count": 8,
      "outputs": []
    },
    {
      "cell_type": "code",
      "metadata": {
        "id": "zbllS9eZGZBC",
        "colab_type": "code",
        "colab": {
          "base_uri": "https://localhost:8080/",
          "height": 78
        },
        "outputId": "cb38e587-f869-4adf-bf70-60085b32728c"
      },
      "source": [
        "df.head(1)"
      ],
      "execution_count": 9,
      "outputs": [
        {
          "output_type": "execute_result",
          "data": {
            "text/html": [
              "<div>\n",
              "<style scoped>\n",
              "    .dataframe tbody tr th:only-of-type {\n",
              "        vertical-align: middle;\n",
              "    }\n",
              "\n",
              "    .dataframe tbody tr th {\n",
              "        vertical-align: top;\n",
              "    }\n",
              "\n",
              "    .dataframe thead th {\n",
              "        text-align: right;\n",
              "    }\n",
              "</style>\n",
              "<table border=\"1\" class=\"dataframe\">\n",
              "  <thead>\n",
              "    <tr style=\"text-align: right;\">\n",
              "      <th></th>\n",
              "      <th>first_name</th>\n",
              "      <th>last_name</th>\n",
              "      <th>state</th>\n",
              "      <th>grad_year</th>\n",
              "      <th>position</th>\n",
              "      <th>height</th>\n",
              "      <th>weight</th>\n",
              "      <th>forty_yard_dash</th>\n",
              "      <th>shuttle_run</th>\n",
              "      <th>three_cone</th>\n",
              "      <th>broad_jump</th>\n",
              "      <th>vertical_jump</th>\n",
              "      <th>profile_yn</th>\n",
              "      <th>conditions</th>\n",
              "    </tr>\n",
              "  </thead>\n",
              "  <tbody>\n",
              "    <tr>\n",
              "      <th>0</th>\n",
              "      <td>Ali</td>\n",
              "      <td>Abdul-Barr</td>\n",
              "      <td>GA</td>\n",
              "      <td>2021.0</td>\n",
              "      <td>WR</td>\n",
              "      <td>6' 0</td>\n",
              "      <td>180.0</td>\n",
              "      <td>5.034</td>\n",
              "      <td>4.55</td>\n",
              "      <td>6.91</td>\n",
              "      <td>104.0</td>\n",
              "      <td>25.0</td>\n",
              "      <td>View Profile</td>\n",
              "      <td>warm and sunny</td>\n",
              "    </tr>\n",
              "  </tbody>\n",
              "</table>\n",
              "</div>"
            ],
            "text/plain": [
              "  first_name   last_name state  ...  vertical_jump    profile_yn      conditions\n",
              "0        Ali  Abdul-Barr    GA  ...           25.0  View Profile  warm and sunny\n",
              "\n",
              "[1 rows x 14 columns]"
            ]
          },
          "metadata": {
            "tags": []
          },
          "execution_count": 9
        }
      ]
    },
    {
      "cell_type": "code",
      "metadata": {
        "id": "N3ZxSTLfWhPj",
        "colab_type": "code",
        "colab": {}
      },
      "source": [
        "# Cleaning the state column to make sure all abbreviations are right\n",
        "df['state'] = df['state'].astype(str).str.replace('Georgia', 'GA')\n",
        "df['state'] = df['state'].astype(str).str.replace('Mableton,georgia', 'GA')\n",
        "df['state'] = df['state'].astype(str).str.replace('Md', 'MD')\n",
        "df['state'] = df['state'].astype(str).str.replace('Ga', 'GA')\n",
        "df['state'] = df['state'].astype(str).str.replace('Maryland', 'MD')\n",
        "df['state'] = df['state'].astype(str).str.replace('North Carolina', 'NC')\n",
        "df['state'] = df['state'].astype(str).str.replace('Ky', 'KY')\n",
        "df['state'] = df['state'].astype(str).str.replace('Tn', 'TN')\n",
        "df['state'] = df['state'].astype(str).str.replace('Ms', 'MS')\n",
        "df['state'] = df['state'].astype(str).str.replace('Il', 'IL')\n",
        "df['state'] = df['state'].astype(str).str.replace('In', 'IN')\n",
        "df['state'] = df['state'].astype(str).str.replace('Fl', 'FL')\n",
        "df['state'] = df['state'].astype(str).str.replace('Ar', 'AR')\n",
        "df['state'] = df['state'].astype(str).str.replace('Ma', 'MA')\n",
        "df['state'] = df['state'].astype(str).str.replace('Massachusetts', 'MA')\n",
        "df['state'] = df['state'].astype(str).str.replace('MAssachusetts', 'MA')\n",
        "df['state'] = df['state'].astype(str).str.replace('NJ - New Jersey', 'NJ')\n",
        "df['state'] = df['state'].astype(str).str.replace('Pennsylvania', 'PA')\n",
        "df = df[(df.state != '1')& (df.state != '21') & (df.state != 'QC') & (df.state != '0') & (df.state != 'CHP') & (df.state != 'nan')]"
      ],
      "execution_count": 10,
      "outputs": []
    },
    {
      "cell_type": "code",
      "metadata": {
        "id": "0QXWyGnM0TEu",
        "colab_type": "code",
        "colab": {
          "base_uri": "https://localhost:8080/",
          "height": 35
        },
        "outputId": "dded7066-f715-4b88-87b2-1bd7336582e3"
      },
      "source": [
        "df.grad_year.unique()"
      ],
      "execution_count": 11,
      "outputs": [
        {
          "output_type": "execute_result",
          "data": {
            "text/plain": [
              "array([2021., 2020., 2019., 2022., 2018.,   nan])"
            ]
          },
          "metadata": {
            "tags": []
          },
          "execution_count": 11
        }
      ]
    },
    {
      "cell_type": "code",
      "metadata": {
        "id": "u1KTvYJr1uJb",
        "colab_type": "code",
        "colab": {}
      },
      "source": [
        "# convert grad year to eighth grader, freshamn, sophomore, junior, senior\n",
        "def class_simp(x):\n",
        "  if x == 2018:\n",
        "    return 'Senior'\n",
        "  elif x == 2019:\n",
        "    return 'Junior'\n",
        "  elif x == 2020:\n",
        "    return 'Sophomore'\n",
        "  elif x == 2021:\n",
        "    return 'Freshman'\n",
        "  elif x == 2022:\n",
        "    return 'Eighth Grader'\n",
        "df[\"grade\"] = df[\"grad_year\"].apply(class_simp)"
      ],
      "execution_count": 12,
      "outputs": []
    },
    {
      "cell_type": "code",
      "metadata": {
        "id": "-PMb9DCeGx6I",
        "colab_type": "code",
        "colab": {
          "base_uri": "https://localhost:8080/",
          "height": 72
        },
        "outputId": "8f70ffdb-e9f6-443b-f58c-b0a3fdf09569"
      },
      "source": [
        "df.position.unique()"
      ],
      "execution_count": 13,
      "outputs": [
        {
          "output_type": "execute_result",
          "data": {
            "text/plain": [
              "array(['WR', 'CB', 'RB', 'QB', 'S', 'OLB', 'OG', 'MLB', 'ATH', 'DE', 'DT',\n",
              "       'OT', 'C', 'FB', 'TE', 'K', 'P', 'LS', 'Ath', 'Paris', nan],\n",
              "      dtype=object)"
            ]
          },
          "metadata": {
            "tags": []
          },
          "execution_count": 13
        }
      ]
    },
    {
      "cell_type": "code",
      "metadata": {
        "id": "zkQfBKuiFZoU",
        "colab_type": "code",
        "colab": {}
      },
      "source": [
        "# convert offensive line positions to OL, likewise for defensive line\n",
        "# convert safeties and cb's to DBs\n",
        "# convert outside and inside linebackers to linebacker\n",
        "# exclude specialists (Kicker, punter, long snapper)\n",
        "df = df[(df.position != 'K')& (df.position != 'P') & (df.position != 'LS') & (df.position != 'Paris')]\n",
        "df['position'] = df['position'].astype(str).str.replace('Ath', 'ATH')\n",
        "df['position'] = df['position'].astype(str).str.replace('CB', 'DB')\n",
        "df['position'] = df['position'].astype(str).str.replace('S', 'DB')\n",
        "df['position'] = df['position'].astype(str).str.replace('MLB', 'LB')\n",
        "df['position'] = df['position'].astype(str).str.replace('OLB', 'LB')\n",
        "df['position'] = df['position'].astype(str).str.replace('OG', 'OL')\n",
        "df['position'] = df['position'].astype(str).str.replace('OT', 'OL')\n",
        "df['position'] = df['position'].astype(str).str.replace('C', 'OL')\n",
        "df['position'] = df['position'].astype(str).str.replace('DE', 'DL')\n",
        "df['position'] = df['position'].astype(str).str.replace('DT', 'DL')"
      ],
      "execution_count": 14,
      "outputs": []
    },
    {
      "cell_type": "code",
      "metadata": {
        "id": "-r6dUXw5IQQf",
        "colab_type": "code",
        "colab": {
          "base_uri": "https://localhost:8080/",
          "height": 199
        },
        "outputId": "564b4913-c308-4e5e-c45b-45a33d1a9817"
      },
      "source": [
        "df.height.unique()"
      ],
      "execution_count": 15,
      "outputs": [
        {
          "output_type": "execute_result",
          "data": {
            "text/plain": [
              "array([\"6' 0\", \"5' 8\", \"5' 7\", '6\\'2\"', \"6' 2\", \"6' 1\", \"5' 9\", \"5' 10\",\n",
              "       \"5' 4\", \"5' 6\", \"5' 1\", \"5' 11\", \"5' 3\", \"5' 2\", \"6' 4\", \"6' 3\",\n",
              "       \"5' 5\", '6\\'1\"', '5\\'10\"', '5\\'8\"', '6\\'0\"', \"6' 5\", nan, '5\\'9\"',\n",
              "       '5\\'6\"', \"5' 0\", '5\\'5\"', '5\\'11\"', '5\\'7\"', '5\\'3\"', \"6' 11\",\n",
              "       \"4' 10\", \"1' 8\", '6\\' 0\"', \"6'1\", '6\\'3\"', \"6' 7\", '5\\'4\"',\n",
              "       '6\\'1.5\"', '6\\'5\"', \"6' 6\", \"4' 7\", \"0' 0\", \"4' 8\", \"5'7\", \"5'6\",\n",
              "       \"5'5\", '6\\'6\"', '5\\' 9\"', '5\\' 8\"', '6\\'4\"', '5\\' 11.75\"',\n",
              "       '5\\' 9.25\"', \"5'11\", '5\\'8.5\"', '5\\'9.5\"', '5\\'10.5\"', '5\\'6.5\"',\n",
              "       '5\\'7.5\"', '5\\'2\"', '5\\'1\"', '5\\'11.5\"', \"5'10\", \"5'9\", \"6'0\"],\n",
              "      dtype=object)"
            ]
          },
          "metadata": {
            "tags": []
          },
          "execution_count": 15
        }
      ]
    },
    {
      "cell_type": "code",
      "metadata": {
        "id": "qqeRqf3OvNpB",
        "colab_type": "code",
        "colab": {
          "base_uri": "https://localhost:8080/",
          "height": 235
        },
        "outputId": "a7fd7595-1236-43ff-bc4d-f67430fc04d3"
      },
      "source": [
        "# remove backslashes\n",
        "df.height.str.decode('unicode_escape')"
      ],
      "execution_count": 16,
      "outputs": [
        {
          "output_type": "execute_result",
          "data": {
            "text/plain": [
              "0       6' 0\n",
              "1       5' 8\n",
              "2       5' 7\n",
              "3       6'2\"\n",
              "4       5' 8\n",
              "        ... \n",
              "1550    6'0\"\n",
              "1551    6' 0\n",
              "1552    5' 6\n",
              "1553    6' 1\n",
              "1554    6' 0\n",
              "Name: height, Length: 12381, dtype: object"
            ]
          },
          "metadata": {
            "tags": []
          },
          "execution_count": 16
        }
      ]
    },
    {
      "cell_type": "code",
      "metadata": {
        "id": "WX6Wp2STx7ng",
        "colab_type": "code",
        "colab": {}
      },
      "source": [
        "# clean height data\n",
        "df = df.astype({\"height\": str})\n",
        "df.height = df.height.apply(lambda x: x.strip())\n",
        "df['height'] = df['height'].astype(str).str.replace('\"', '')\n",
        "df.height= df.height.str.replace(' ', '')\n",
        "df = df[(df.height != \"1'8\")]\n",
        "df['height'] = df['height'].astype(str).str.replace(\"0.0\", 'nan')\n",
        "df['height'] = df['height'].astype(str).str.replace(\"5'6.5\", \"5'7\")\n",
        "df['height'] = df['height'].astype(str).str.replace(\"6'1.5\", \"6'2\")\n",
        "df['height'] = df['height'].astype(str).str.replace(\"5'9.5\", \"5'10\")\n",
        "df['height'] = df['height'].astype(str).str.replace(\"5'7.5\", \"5'8\")\n",
        "df['height'] = df['height'].astype(str).str.replace(\"5'8.5\", \"5'9\")\n",
        "df['height'] = df['height'].astype(str).str.replace(\"5'11.5\", \"6'0\")\n",
        "df['height'] = df['height'].astype(str).str.replace(\"5'11.75\", \"6'0\")\n",
        "df['height'] = df['height'].astype(str).str.replace(\"5'9.25\", \"5'9\")\n",
        "df['height'] = df['height'].astype(str).str.replace(\"5'10.5\", \"5'11\")\n",
        "df = df.astype({\"height\": str})"
      ],
      "execution_count": 17,
      "outputs": []
    },
    {
      "cell_type": "code",
      "metadata": {
        "id": "xww6vZG3LqJx",
        "colab_type": "code",
        "colab": {}
      },
      "source": [
        "# convert all height values to height in inches\n",
        "def inches(x):\n",
        "  x = str(x)\n",
        "  if x == 'nan':\n",
        "    return np.nan\n",
        "  height = x.split(\"'\")\n",
        "  feet = int(height[0])\n",
        "  inches = int(height[1])\n",
        "  tot_inches = feet*12 + inches\n",
        "  return tot_inches\n",
        "df[\"height_inches\"] = df[\"height\"].apply(inches)"
      ],
      "execution_count": 23,
      "outputs": []
    },
    {
      "cell_type": "code",
      "metadata": {
        "id": "NBs155huwQ8l",
        "colab_type": "code",
        "colab": {
          "base_uri": "https://localhost:8080/",
          "height": 490
        },
        "outputId": "6350bdef-1445-481f-e95d-1fd3d0576308"
      },
      "source": [
        "pd.set_option('display.max_rows', 500)\n",
        "df.height.value_counts().sum"
      ],
      "execution_count": 24,
      "outputs": [
        {
          "output_type": "execute_result",
          "data": {
            "text/plain": [
              "<bound method Series.sum of 5'8     1888\n",
              "5'10    1846\n",
              "5'9     1498\n",
              "5'7     1158\n",
              "6'0     1131\n",
              "5'6     1118\n",
              "5'11    1100\n",
              "6'1      606\n",
              "6'2      487\n",
              "5'5      478\n",
              "5'4      371\n",
              "6'3      208\n",
              "5'3      156\n",
              "nan       86\n",
              "5'2       84\n",
              "6'4       67\n",
              "5'1       35\n",
              "6'5       35\n",
              "5'0       11\n",
              "6'6       11\n",
              "4'10       2\n",
              "4'7        1\n",
              "4'8        1\n",
              "6'11       1\n",
              "6'7        1\n",
              "Name: height, dtype: int64>"
            ]
          },
          "metadata": {
            "tags": []
          },
          "execution_count": 24
        }
      ]
    },
    {
      "cell_type": "code",
      "metadata": {
        "id": "fYfczLb2CKQD",
        "colab_type": "code",
        "colab": {}
      },
      "source": [
        "# make profile_listed 1 if profile is linked\n",
        "def value(x):\n",
        "  x = str(x)\n",
        "  if x == 'View Profile':    \n",
        "    return 1\n",
        "  else:\n",
        "    return 0\n",
        "df[\"profile_listed\"] = df[\"profile_yn\"].apply(value)"
      ],
      "execution_count": 25,
      "outputs": []
    },
    {
      "cell_type": "code",
      "metadata": {
        "id": "6BKUdMB-DUCJ",
        "colab_type": "code",
        "colab": {
          "base_uri": "https://localhost:8080/",
          "height": 54
        },
        "outputId": "53f33f4c-e7fb-428c-f560-205299835758"
      },
      "source": [
        "df.conditions.unique()"
      ],
      "execution_count": 26,
      "outputs": [
        {
          "output_type": "execute_result",
          "data": {
            "text/plain": [
              "array(['warm and sunny', 'sunny', 'cold', 'windy and rainy',\n",
              "       'hot and sunny', 'cool'], dtype=object)"
            ]
          },
          "metadata": {
            "tags": []
          },
          "execution_count": 26
        }
      ]
    },
    {
      "cell_type": "code",
      "metadata": {
        "id": "Oyg9gX_1DhDq",
        "colab_type": "code",
        "colab": {}
      },
      "source": [
        "# make column for each condition with 1/0\n",
        "df['warm'] = 0\n",
        "df['sunny'] = 0\n",
        "df['cold'] = 0\n",
        "df['windy'] = 0\n",
        "df['rainy'] = 0\n",
        "df['hot'] = 0\n",
        "df['cool'] = 0\n",
        "df[\"warm\"][df['conditions'].str.contains(\"warm\")] = 1\n",
        "df[\"sunny\"][df['conditions'].str.contains(\"sunny\")] = 1\n",
        "df[\"cold\"][df['conditions'].str.contains(\"cold\")] = 1\n",
        "df[\"windy\"][df['conditions'].str.contains(\"windy\")] = 1\n",
        "df[\"rainy\"][df['conditions'].str.contains(\"rainy\")] = 1\n",
        "df[\"hot\"][df['conditions'].str.contains(\"hot\")] = 1\n",
        "df[\"cool\"][df['conditions'].str.contains(\"cool\")] = 1"
      ],
      "execution_count": 27,
      "outputs": []
    },
    {
      "cell_type": "code",
      "metadata": {
        "id": "gmyzsZFdGgoe",
        "colab_type": "code",
        "colab": {
          "base_uri": "https://localhost:8080/",
          "height": 305
        },
        "outputId": "bc35c011-776c-4d3e-d162-94bdc85bf86c"
      },
      "source": [
        "df.head()"
      ],
      "execution_count": 28,
      "outputs": [
        {
          "output_type": "execute_result",
          "data": {
            "text/html": [
              "<div>\n",
              "<style scoped>\n",
              "    .dataframe tbody tr th:only-of-type {\n",
              "        vertical-align: middle;\n",
              "    }\n",
              "\n",
              "    .dataframe tbody tr th {\n",
              "        vertical-align: top;\n",
              "    }\n",
              "\n",
              "    .dataframe thead th {\n",
              "        text-align: right;\n",
              "    }\n",
              "</style>\n",
              "<table border=\"1\" class=\"dataframe\">\n",
              "  <thead>\n",
              "    <tr style=\"text-align: right;\">\n",
              "      <th></th>\n",
              "      <th>first_name</th>\n",
              "      <th>last_name</th>\n",
              "      <th>state</th>\n",
              "      <th>grad_year</th>\n",
              "      <th>position</th>\n",
              "      <th>height</th>\n",
              "      <th>weight</th>\n",
              "      <th>forty_yard_dash</th>\n",
              "      <th>shuttle_run</th>\n",
              "      <th>three_cone</th>\n",
              "      <th>broad_jump</th>\n",
              "      <th>vertical_jump</th>\n",
              "      <th>profile_yn</th>\n",
              "      <th>conditions</th>\n",
              "      <th>grade</th>\n",
              "      <th>height_inches</th>\n",
              "      <th>profile_listed</th>\n",
              "      <th>warm</th>\n",
              "      <th>sunny</th>\n",
              "      <th>cold</th>\n",
              "      <th>windy</th>\n",
              "      <th>rainy</th>\n",
              "      <th>hot</th>\n",
              "      <th>cool</th>\n",
              "    </tr>\n",
              "  </thead>\n",
              "  <tbody>\n",
              "    <tr>\n",
              "      <th>0</th>\n",
              "      <td>Ali</td>\n",
              "      <td>Abdul-Barr</td>\n",
              "      <td>GA</td>\n",
              "      <td>2021.0</td>\n",
              "      <td>WR</td>\n",
              "      <td>6'0</td>\n",
              "      <td>180.0</td>\n",
              "      <td>5.034</td>\n",
              "      <td>4.55</td>\n",
              "      <td>6.91</td>\n",
              "      <td>104.0</td>\n",
              "      <td>25.0</td>\n",
              "      <td>View Profile</td>\n",
              "      <td>warm and sunny</td>\n",
              "      <td>Freshman</td>\n",
              "      <td>72.0</td>\n",
              "      <td>1</td>\n",
              "      <td>1</td>\n",
              "      <td>1</td>\n",
              "      <td>0</td>\n",
              "      <td>0</td>\n",
              "      <td>0</td>\n",
              "      <td>0</td>\n",
              "      <td>0</td>\n",
              "    </tr>\n",
              "    <tr>\n",
              "      <th>1</th>\n",
              "      <td>Noah</td>\n",
              "      <td>Abrams</td>\n",
              "      <td>GA</td>\n",
              "      <td>2021.0</td>\n",
              "      <td>DB</td>\n",
              "      <td>5'8</td>\n",
              "      <td>149.0</td>\n",
              "      <td>4.565</td>\n",
              "      <td>4.614</td>\n",
              "      <td>7.65</td>\n",
              "      <td>107.0</td>\n",
              "      <td>27.7</td>\n",
              "      <td>View Profile</td>\n",
              "      <td>warm and sunny</td>\n",
              "      <td>Freshman</td>\n",
              "      <td>68.0</td>\n",
              "      <td>1</td>\n",
              "      <td>1</td>\n",
              "      <td>1</td>\n",
              "      <td>0</td>\n",
              "      <td>0</td>\n",
              "      <td>0</td>\n",
              "      <td>0</td>\n",
              "      <td>0</td>\n",
              "    </tr>\n",
              "    <tr>\n",
              "      <th>2</th>\n",
              "      <td>Brian</td>\n",
              "      <td>Abson</td>\n",
              "      <td>GA</td>\n",
              "      <td>2020.0</td>\n",
              "      <td>RB</td>\n",
              "      <td>5'7</td>\n",
              "      <td>184.0</td>\n",
              "      <td>NaN</td>\n",
              "      <td>NaN</td>\n",
              "      <td>NaN</td>\n",
              "      <td>NaN</td>\n",
              "      <td>NaN</td>\n",
              "      <td>View Profile</td>\n",
              "      <td>warm and sunny</td>\n",
              "      <td>Sophomore</td>\n",
              "      <td>67.0</td>\n",
              "      <td>1</td>\n",
              "      <td>1</td>\n",
              "      <td>1</td>\n",
              "      <td>0</td>\n",
              "      <td>0</td>\n",
              "      <td>0</td>\n",
              "      <td>0</td>\n",
              "      <td>0</td>\n",
              "    </tr>\n",
              "    <tr>\n",
              "      <th>3</th>\n",
              "      <td>Zak</td>\n",
              "      <td>Acuff</td>\n",
              "      <td>TN</td>\n",
              "      <td>2021.0</td>\n",
              "      <td>QB</td>\n",
              "      <td>6'2</td>\n",
              "      <td>156.0</td>\n",
              "      <td>5.009</td>\n",
              "      <td>4.937</td>\n",
              "      <td>NaN</td>\n",
              "      <td>115.0</td>\n",
              "      <td>NaN</td>\n",
              "      <td>View Profile</td>\n",
              "      <td>warm and sunny</td>\n",
              "      <td>Freshman</td>\n",
              "      <td>74.0</td>\n",
              "      <td>1</td>\n",
              "      <td>1</td>\n",
              "      <td>1</td>\n",
              "      <td>0</td>\n",
              "      <td>0</td>\n",
              "      <td>0</td>\n",
              "      <td>0</td>\n",
              "      <td>0</td>\n",
              "    </tr>\n",
              "    <tr>\n",
              "      <th>4</th>\n",
              "      <td>Cedric</td>\n",
              "      <td>Adams</td>\n",
              "      <td>MS</td>\n",
              "      <td>2019.0</td>\n",
              "      <td>DB</td>\n",
              "      <td>5'8</td>\n",
              "      <td>178.0</td>\n",
              "      <td>4.952</td>\n",
              "      <td>4.789</td>\n",
              "      <td>7.81</td>\n",
              "      <td>106.0</td>\n",
              "      <td>27.6</td>\n",
              "      <td>View Profile</td>\n",
              "      <td>warm and sunny</td>\n",
              "      <td>Junior</td>\n",
              "      <td>68.0</td>\n",
              "      <td>1</td>\n",
              "      <td>1</td>\n",
              "      <td>1</td>\n",
              "      <td>0</td>\n",
              "      <td>0</td>\n",
              "      <td>0</td>\n",
              "      <td>0</td>\n",
              "      <td>0</td>\n",
              "    </tr>\n",
              "  </tbody>\n",
              "</table>\n",
              "</div>"
            ],
            "text/plain": [
              "  first_name   last_name state  grad_year  ... windy rainy  hot  cool\n",
              "0        Ali  Abdul-Barr    GA     2021.0  ...     0     0    0     0\n",
              "1       Noah      Abrams    GA     2021.0  ...     0     0    0     0\n",
              "2      Brian       Abson    GA     2020.0  ...     0     0    0     0\n",
              "3        Zak       Acuff    TN     2021.0  ...     0     0    0     0\n",
              "4     Cedric       Adams    MS     2019.0  ...     0     0    0     0\n",
              "\n",
              "[5 rows x 24 columns]"
            ]
          },
          "metadata": {
            "tags": []
          },
          "execution_count": 28
        }
      ]
    },
    {
      "cell_type": "code",
      "metadata": {
        "id": "K6XC8uxCHQGj",
        "colab_type": "code",
        "colab": {}
      },
      "source": [
        "df.drop(['grad_year', 'profile_yn'], axis=1, inplace=True)"
      ],
      "execution_count": 29,
      "outputs": []
    },
    {
      "cell_type": "code",
      "metadata": {
        "id": "emuuCgl0Hge-",
        "colab_type": "code",
        "colab": {}
      },
      "source": [
        "df.to_csv('football_final_df.csv')"
      ],
      "execution_count": 30,
      "outputs": []
    }
  ]
}